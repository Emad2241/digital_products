{
  "nbformat": 4,
  "nbformat_minor": 0,
  "metadata": {
    "colab": {
      "provenance": [],
      "authorship_tag": "ABX9TyN83knxgNXcgNu2fqQJtBUj",
      "include_colab_link": true
    },
    "kernelspec": {
      "name": "python3",
      "display_name": "Python 3"
    },
    "language_info": {
      "name": "python"
    }
  },
  "cells": [
    {
      "cell_type": "markdown",
      "metadata": {
        "id": "view-in-github",
        "colab_type": "text"
      },
      "source": [
        "<a href=\"https://colab.research.google.com/github/Emad2241/digital_products/blob/master/DataScienceEcosystem.ipynb\" target=\"_parent\"><img src=\"https://colab.research.google.com/assets/colab-badge.svg\" alt=\"Open In Colab\"/></a>"
      ]
    },
    {
      "cell_type": "markdown",
      "source": [
        "##Data Science Tools and Ecosystem"
      ],
      "metadata": {
        "id": "wyFHe2K3sBf-"
      }
    },
    {
      "cell_type": "markdown",
      "source": [
        "#introduction"
      ],
      "metadata": {
        "id": "xPnM7vSAszdr"
      }
    },
    {
      "cell_type": "markdown",
      "source": [
        "In this notebook, Data Science Tools and Ecosystem are summarized"
      ],
      "metadata": {
        "id": "H03hrWeFs4u7"
      }
    },
    {
      "cell_type": "markdown",
      "source": [
        "#Some of the popular languages that Data Scientists use are:"
      ],
      "metadata": {
        "id": "eqoXLP9Rty4l"
      }
    },
    {
      "cell_type": "markdown",
      "source": [
        "##**Objectives**:"
      ],
      "metadata": {
        "id": "S0mMK-ii4EfW"
      }
    },
    {
      "cell_type": "markdown",
      "source": [
        "List popular languages for Data Science, Some of the commonly used libraries used by Data Scientists include, Below are a few examples of evaluating arithmetic expressions in Python, This a simple arithmetic expression to mutiply then add integers, This will convert 200 minutes to hours by diving by 60"
      ],
      "metadata": {
        "id": "WUfg2c4t4wEv"
      }
    },
    {
      "cell_type": "markdown",
      "source": [
        "1- Python\n",
        "\n",
        "2- R\n",
        "\n",
        "3- SQL\n",
        "\n",
        "4- Java\n",
        "\n",
        "5- Julia"
      ],
      "metadata": {
        "id": "HqhrvWjwt44E"
      }
    },
    {
      "cell_type": "markdown",
      "source": [
        "#Some of the commonly used libraries used by Data Scientists include:"
      ],
      "metadata": {
        "id": "-13VrbxevVpM"
      }
    },
    {
      "cell_type": "markdown",
      "source": [
        "1-Numpy\n",
        "\n",
        "2-Pandas\n",
        "\n",
        "3-Matplotlib\n",
        "\n",
        "4-Scikit-Learn\n",
        "\n",
        "5-Scipy\n",
        "\n",
        "6-TensorFlow\n",
        "\n",
        "7-PyTorch"
      ],
      "metadata": {
        "id": "D-lgqIDlvb59"
      }
    },
    {
      "cell_type": "markdown",
      "source": [
        " |Data Science Tools |\n",
        "| -------- |\n",
        "| Jupyter Notebooks |\n",
        "| RStudio |\n",
        "| IBM Watsonx.ai |"
      ],
      "metadata": {
        "id": "yK5lPN0Uy6fW"
      }
    },
    {
      "cell_type": "markdown",
      "source": [
        "#Below are a few examples of evaluating arithmetic expressions in Python"
      ],
      "metadata": {
        "id": "CWZVSGok01zc"
      }
    },
    {
      "cell_type": "code",
      "source": [
        "x=5+8\n",
        "x"
      ],
      "metadata": {
        "colab": {
          "base_uri": "https://localhost:8080/"
        },
        "id": "zlgJ1PzR06Pk",
        "outputId": "717fee1d-8d8a-4af0-d9b6-5c9b6d2f538a"
      },
      "execution_count": 34,
      "outputs": [
        {
          "output_type": "execute_result",
          "data": {
            "text/plain": [
              "13"
            ]
          },
          "metadata": {},
          "execution_count": 34
        }
      ]
    },
    {
      "cell_type": "code",
      "source": [
        "y=98/12\n",
        "y"
      ],
      "metadata": {
        "colab": {
          "base_uri": "https://localhost:8080/"
        },
        "id": "MJ3UdDEq1Abf",
        "outputId": "e7260be0-1b4b-4d75-ee60-f5a931688443"
      },
      "execution_count": 35,
      "outputs": [
        {
          "output_type": "execute_result",
          "data": {
            "text/plain": [
              "8.166666666666666"
            ]
          },
          "metadata": {},
          "execution_count": 35
        }
      ]
    },
    {
      "cell_type": "code",
      "source": [
        "z=14**3\n",
        "z"
      ],
      "metadata": {
        "colab": {
          "base_uri": "https://localhost:8080/"
        },
        "id": "iQYADMUv1HPF",
        "outputId": "61f0f269-6234-473d-e887-8697faabd924"
      },
      "execution_count": 36,
      "outputs": [
        {
          "output_type": "execute_result",
          "data": {
            "text/plain": [
              "2744"
            ]
          },
          "metadata": {},
          "execution_count": 36
        }
      ]
    },
    {
      "cell_type": "markdown",
      "source": [
        "This a simple arithmetic expression to mutiply then add integers."
      ],
      "metadata": {
        "id": "7GNTccH_13uu"
      }
    },
    {
      "cell_type": "code",
      "source": [
        "(3*4)+5"
      ],
      "metadata": {
        "colab": {
          "base_uri": "https://localhost:8080/"
        },
        "id": "NhURw9lR15S2",
        "outputId": "01c3f9fc-b609-404b-a755-7ef207994ba2"
      },
      "execution_count": 37,
      "outputs": [
        {
          "output_type": "execute_result",
          "data": {
            "text/plain": [
              "17"
            ]
          },
          "metadata": {},
          "execution_count": 37
        }
      ]
    },
    {
      "cell_type": "markdown",
      "source": [
        "This will convert 200 minutes to hours by diving by 60\n",
        "\n",
        "> Add blockquote\n",
        "\n"
      ],
      "metadata": {
        "id": "6BFqD0UT2URZ"
      }
    },
    {
      "cell_type": "code",
      "source": [
        "hour=200/60\n",
        "hour= f'our time is {hour} hours'\n",
        "hour"
      ],
      "metadata": {
        "colab": {
          "base_uri": "https://localhost:8080/",
          "height": 35
        },
        "id": "_WjXgrBE2V0X",
        "outputId": "1896e8dc-bcdd-41bf-ad57-6e52447c9856"
      },
      "execution_count": 41,
      "outputs": [
        {
          "output_type": "execute_result",
          "data": {
            "text/plain": [
              "'our time is 3.3333333333333335 hours'"
            ],
            "application/vnd.google.colaboratory.intrinsic+json": {
              "type": "string"
            }
          },
          "metadata": {},
          "execution_count": 41
        }
      ]
    },
    {
      "cell_type": "markdown",
      "source": [
        "## Author\n",
        "\n",
        "Mohammad Emadoddin\n",
        "\n"
      ],
      "metadata": {
        "id": "p3lmvhHN5-bn"
      }
    }
  ]
}